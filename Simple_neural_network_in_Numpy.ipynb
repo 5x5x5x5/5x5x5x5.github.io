{
  "cells": [
    {
      "cell_type": "markdown",
      "metadata": {
        "id": "view-in-github",
        "colab_type": "text"
      },
      "source": [
        "<a href=\"https://colab.research.google.com/github/5x5x5x5/5x5x5x5.github.io/blob/master/Simple_neural_network_in_Numpy.ipynb\" target=\"_parent\"><img src=\"https://colab.research.google.com/assets/colab-badge.svg\" alt=\"Open In Colab\"/></a>"
      ]
    },
    {
      "cell_type": "markdown",
      "metadata": {
        "id": "lDonjybLcCLZ"
      },
      "source": [
        "# Introduction\n",
        "\n",
        "Feynman said: \"If you cannot explain something in simple terms, you don't understand it.\"\n",
        "\n",
        "I have a slightly different perspective; if you cannot _implement_ something using basic fundamentals, you don't understand it.\n",
        "\n",
        "As such- I realized that I don't actually [understand how backprop works](https://karpathy.medium.com/yes-you-should-understand-backprop-e2f06eab496b), as I can't implement it. So this notebook is my attempt to fix this.\n",
        "\n",
        "Note: This is inspired by, among other articles, [Daniel Daza's notebook](https://dfdazac.github.io/06-neural-networks-numpy.html).\n",
        "\n",
        "We don't worry about batching here to simplify things; if we wanted to, we could easily batch everything by using JAX's [`vmap`](https://jax.readthedocs.io/en/latest/_autosummary/jax.vmap.html) function. \n",
        "\n",
        "We also aren't worried about overfitting here, but _you_ probably should be. Never implement an actual ML algorithm without a proper training/testing split."
      ]
    },
    {
      "cell_type": "code",
      "execution_count": null,
      "metadata": {
        "id": "WBEjgH6u6Awx"
      },
      "outputs": [],
      "source": [
        "#@title Imports\n",
        "import numpy as np\n",
        "import dataclasses\n",
        "from sklearn import datasets\n",
        "from typing import List, Callable, Tuple\n",
        "from matplotlib import pyplot as plt"
      ]
    },
    {
      "cell_type": "markdown",
      "metadata": {
        "id": "lndh6HvWT7mg"
      },
      "source": [
        "Ok! So our goal is to train a simple neural network to solve the [`make_moons`](https://scikit-learn.org/stable/modules/generated/sklearn.datasets.make_moons.html#sklearn.datasets.make_moons) task. In this problem, we have two overlapping semi-circles.\n",
        "\n",
        "Here are some functions to plot the data:"
      ]
    },
    {
      "cell_type": "code",
      "execution_count": null,
      "metadata": {
        "id": "xZUebqsjIRYx"
      },
      "outputs": [],
      "source": [
        "def plot_labels(inputs: np.ndarray, labels: np.ndarray):\n",
        "  plt.scatter(inputs[labels == 0, 0], inputs[labels == 0, 1], label=\"class 0\")\n",
        "  plt.scatter(inputs[labels == 1, 0], inputs[labels == 1, 1], label=\"class 1\")\n",
        "  plt.legend()\n",
        "  plt.show()\n",
        "\n",
        "def plot_predictions(inputs: np.ndarray, true_labels: np.ndarray, predicted_labels: np.ndarray):\n",
        "  plt.title('True labels')\n",
        "  plot_labels(inputs, true_labels)\n",
        "  plt.title('Predicted labels')\n",
        "  plot_labels(inputs, predicted_labels)"
      ]
    },
    {
      "cell_type": "code",
      "execution_count": null,
      "metadata": {
        "id": "tP0NSSAZUCxx"
      },
      "outputs": [],
      "source": [
        "inputs, labels = datasets.make_moons(100)"
      ]
    },
    {
      "cell_type": "markdown",
      "metadata": {
        "id": "qf0Tr0uWUPvD"
      },
      "source": [
        "And this is what the data looks like:"
      ]
    },
    {
      "cell_type": "code",
      "execution_count": null,
      "metadata": {
        "colab": {
          "base_uri": "https://localhost:8080/",
          "height": 265
        },
        "id": "WgKLfxpOT-Kk",
        "outputId": "45421425-e59d-424b-c556-06b9e3c04835"
      },
      "outputs": [
        {
          "output_type": "display_data",
          "data": {
            "text/plain": [
              "<Figure size 432x288 with 1 Axes>"
            ],
            "image/png": "[encoded data removed]"
          },
          "metadata": {
            "needs_background": "light"
          }
        }
      ],
      "source": [
        "plot_labels(inputs, labels)"
      ]
    },
    {
      "cell_type": "markdown",
      "metadata": {
        "id": "5Nu8mgS9dUts"
      },
      "source": [
        "We want to distinguish them using a multi-layer perceptron (MLP), i.e. neural network composed of linear layers with ReLU activations. Our network will end with a softmax activation so that it outputs probabilities. We will use the multi-class cross-entropy loss as our loss function.\n",
        "\n",
        "The ReLU activation function is defined by:\n",
        "\n",
        "$$\n",
        "\\text{ReLU}(x) := \\max(0, x), x \\in \\mathbb{R}^n\n",
        "$$\n",
        "\n",
        "the softmax function is defined by:\n",
        "\n",
        "$$\n",
        "\\text{softmax}(x) := \\dfrac{\\exp(x)}{ \\sum_{i=1}^n \\exp(x_i)}, x \\in \\mathbb{R}^n,\n",
        "$$\n",
        "\n",
        "and the multi-class cross-entropy loss is given by\n",
        "\n",
        "$$\n",
        "L(\\hat{y}, y) := \\sum_{i= 1}^n y_i \\log \\hat{y}, \\text{ where } y, \\hat y \\in \\mathbb{R}^k.\n",
        "$$\n",
        "\n",
        "Note that, while the two are mathematically equivalent, we will instead use the rescaled version of the softmax function, as it is more numerically stable:\n",
        "\n",
        "$$\n",
        "\\text{softmax}(x) := \\dfrac{\\exp(x - \\max_{i=1,\\ldots, n} x_i)}{ \\sum_{i=1}^n \\exp(x_i - \\max_{i=1,\\ldots, n} x_i)}, x \\in \\mathbb{R}^n.\n",
        "$$\n",
        "\n",
        "We also need to calculate the derivatives of these functions to be able to calculate the gradients of our loss function. We have:\n",
        "\n",
        "\\begin{align}\n",
        "  \\text{ReLU}'(x) &= \\begin{cases} 1 & x_i > 0 \\\\ 0 & x_i <= 0 \\end{cases}\\\\\n",
        "  \\text{softmax}'(x) &= \\text{softmax}(x) (1 - \\text{softmax}(x))\\\\\n",
        "  \\frac{\\partial L(\\hat{y}, y)}{\\partial \\hat{y}_i} &= \\frac{y_i}{\\hat{y}_i}.\n",
        "\\end{align}"
      ]
    },
    {
      "cell_type": "code",
      "execution_count": null,
      "metadata": {
        "id": "V88DLoEggBa0"
      },
      "outputs": [],
      "source": [
        "def _relu(inputs: np.ndarray) -> np.ndarray:\n",
        "  return np.maximum(inputs, np.zeros_like(inputs))\n",
        "\n",
        "\n",
        "def _softmax(inputs: np.ndarray) -> np.ndarray:\n",
        "  exp_inputs = np.exp(inputs - np.max(inputs))\n",
        "  return exp_inputs / np.sum(exp_inputs)\n",
        "\n",
        "\n",
        "def _relu_derivative(inputs: np.ndarray) -> np.ndarray:\n",
        "  return np.where(inputs > 0, np.ones_like(inputs), np.zeros_like(inputs))\n",
        "\n",
        "\n",
        "def _softmax_derivative(inputs: np.ndarray) -> np.ndarray:\n",
        "  softmax = _softmax(inputs)\n",
        "  return softmax * (1 - softmax)\n",
        "\n",
        "\n",
        "def _get_activation(function_name: str) -> Callable[[np.ndarray], np.ndarray]:\n",
        "  if function_name == 'relu':\n",
        "    return _relu\n",
        "  elif function_name == 'softmax':\n",
        "    return _softmax\n",
        "  else:\n",
        "    raise ValueError(f'Unknown function_name: {function_name=}.')\n",
        "\n",
        "\n",
        "def _get_activation_derivative(function_name: str) -> Callable[[np.ndarray], np.ndarray]:\n",
        "  if function_name == 'relu':\n",
        "    return _relu_derivative\n",
        "  elif function_name == 'softmax':\n",
        "    return _softmax_derivative\n",
        "  else:\n",
        "    raise ValueError(f'Unknown function_name: {function_name=}.')\n",
        "\n",
        "\n",
        "def cross_entropy(prediction: np.ndarray, label: np.ndarray) -> float:\n",
        "  return -1 * np.log(prediction)[label]\n",
        "\n",
        "\n",
        "def cross_entropy_derivative(prediction: np.ndarray, label: int) -> float:\n",
        "  return -1. / prediction[label]\n",
        "\n",
        "def mean_squared_error(prediction: np.ndarray, label: int) -> float:\n",
        "  one_hot = np.zeros_like(prediction)\n",
        "  one_hot[label] = 1\n",
        "  return np.mean((prediction - one_hot) ** 2)\n",
        "\n",
        "def mean_squared_error_derivative(prediction: np.ndarray, label: int) -> float:\n",
        "  one_hot = np.zeros_like(prediction)\n",
        "  one_hot[label] = 1\n",
        "  return prediction - one_hot"
      ]
    },
    {
      "cell_type": "markdown",
      "metadata": {
        "id": "h1j6zAoIhvNE"
      },
      "source": [
        "Now, to run our code, we'll need to initialize the parameters for our neural network. We'll follow standard practice and initialize the weights following the Glorot distribution, and initialize the biases to be a small positive constant."
      ]
    },
    {
      "cell_type": "code",
      "execution_count": null,
      "metadata": {
        "id": "NsfXUYXP6HWT"
      },
      "outputs": [],
      "source": [
        "# We use a dataclass here to provide a convenient grouping for everything that\n",
        "# makes up our layer.\n",
        "@dataclasses.dataclass\n",
        "class LayerParams:\n",
        "  weights: np.ndarray\n",
        "  biases: np.ndarray\n",
        "  activation: Callable[[np.ndarray], np.ndarray]\n",
        "\n",
        "\n",
        "def _glorot_scale(in_dims: int, out_dims: int) -> float:\n",
        "  return np.sqrt(2 / (in_dims + out_dims))\n",
        "\n",
        "\n",
        "def _initialize_weights(in_dims: int, out_dims: int) -> np.ndarray:\n",
        "  return np.random.normal(loc=0., \n",
        "                          scale=_glorot_scale(in_dims, out_dims),\n",
        "                          size=(in_dims, out_dims))\n",
        "\n",
        "\n",
        "\n",
        "def init_params(sizes: List[int]) -> List[LayerParams]:\n",
        "  \"\"\"Initializes the layer params for a MLP.\n",
        "\n",
        "  Args:\n",
        "    sizes: List of network sizes. Must include input size as the 0th layer.\n",
        "\n",
        "  Returns:\n",
        "    params for network.\n",
        "  \"\"\"\n",
        "  params = []\n",
        "  for size_index in range(len(sizes) - 1):\n",
        "    in_dims = sizes[size_index]\n",
        "    out_dims = sizes[size_index + 1]\n",
        "    if size_index == len(sizes) - 2:\n",
        "      activation = 'softmax'\n",
        "    else:\n",
        "      activation = 'relu'\n",
        "    params.append(LayerParams(weights=_initialize_weights(in_dims, out_dims),\n",
        "                              biases=0.01 * np.ones(out_dims),\n",
        "                              activation=activation))\n",
        "  return params"
      ]
    },
    {
      "cell_type": "markdown",
      "metadata": {
        "id": "qOG-LCLuiDAD"
      },
      "source": [
        "Now, our forward pass! It's pretty straightforward, because we're restricting\n",
        "our code to only support MLPs. \n",
        "\n",
        "For each layer, we do the following calculation (where $A_i$ is the output of each layer, $X_i$ is the input, $f_i$ is the activation function, and $W_i/b_i$ are the weight matrix and bias vectors): \n",
        "\n",
        "$$\n",
        "X_i = f_i(W_i^T X_i + b_i).\n",
        "$$\n",
        "\n",
        "Note that $W_i \\in \\mathbb{R}^{m \\times n}, X_i \\in \\mathbb{R}^m,$ and $A_i, b_i \\in \\mathbb{R}^n$."
      ]
    },
    {
      "cell_type": "code",
      "execution_count": null,
      "metadata": {
        "id": "OIHNOFVIiEAn"
      },
      "outputs": [],
      "source": [
        "def forward_with_activations(\n",
        "    params: List[LayerParams], \n",
        "    image: np.ndarray) -> Tuple[np.ndarray, List[np.ndarray]]:\n",
        "  \"\"\"Does a forward pass of our MLP.\n",
        "  \n",
        "  Args:\n",
        "    params: The weights/biases of our MLP.\n",
        "    image: The image we want to do inference on.\n",
        "\n",
        "  Returns:\n",
        "    The output of the neural network- here, probabilities of each class.\n",
        "  \"\"\"\n",
        "  layer_input = image\n",
        "  activations = []\n",
        "  for layer_index, layer_params in enumerate(params):\n",
        "    layer_output = np.matmul(layer_input, layer_params.weights)\n",
        "    layer_output += layer_params.biases\n",
        "    layer_output = _get_activation(layer_params.activation)(layer_output)\n",
        "    layer_input = layer_output\n",
        "    activations.append(layer_output)\n",
        "  return layer_output, activations"
      ]
    },
    {
      "cell_type": "markdown",
      "metadata": {
        "id": "OFh8NnotjHTY"
      },
      "source": [
        "That's it! It's that simple. We do one additional task here other than just calculating the forward pass of the network: we cache the activations. That is because we will need them for the backwards pass, and we don't want to have to recompute them.\n",
        "\n",
        "We're going to add some helper functions to make our life easier, and then, on to our backwards pass!"
      ]
    },
    {
      "cell_type": "code",
      "execution_count": null,
      "metadata": {
        "id": "kPb_GDbFjB9q"
      },
      "outputs": [],
      "source": [
        "def calculate_loss(params: List[LayerParams], image: np.ndarray, label: int) -> float:\n",
        "  prediction, _ = forward_with_activations(params, image)\n",
        "  return cross_entropy(prediction, label)\n",
        "\n",
        "\n",
        "def accuracy(params: List[LayerParams], \n",
        "             images: np.ndarray, labels: np.ndarray) -> float:\n",
        "  num_correct = 0\n",
        "  for data_index in range(len(labels)):\n",
        "    image, label = images[data_index, :], labels[data_index]\n",
        "    prediction = np.argmax(forward_with_activations(params, image)[0])\n",
        "    num_correct += prediction == label\n",
        "  return num_correct / len(images)\n",
        "\n",
        "def predict_labels(params: List[LayerParams], inputs: np.ndarray):\n",
        "  predicted_labels = []\n",
        "  for image in inputs:\n",
        "    probabilities, _ = forward_with_activations(params, image)\n",
        "    prediction = np.argmax(probabilities)\n",
        "    predicted_labels.append(prediction)\n",
        "  return np.array(predicted_labels)"
      ]
    },
    {
      "cell_type": "markdown",
      "metadata": {
        "id": "l4Jy23WOjcQz"
      },
      "source": [
        "Ok! Time for our backwards pass.\n",
        "\n",
        "In order to update each weight matrix $W_i$ and each bias vector $b_i$, we want to calculate the gradients for each: $\\nabla_{W_i} L, \\nabla_{b_i} L$. Once we have these, we can use gradient descent to do our update:\n",
        "\n",
        "\\begin{align}\n",
        "  W_i &= W_i - \\eta \\nabla_{W_i} L\\\\\n",
        "  b_i &= b_i - \\eta \\nabla_{b_i} L\\\\\n",
        "\\end{align}"
      ]
    },
    {
      "cell_type": "code",
      "execution_count": null,
      "metadata": {
        "id": "QPH7T3jhjdBE"
      },
      "outputs": [],
      "source": [
        "LEARNING_RATE = 1e-3\n",
        "\n",
        "def backward(params: List[LayerParams], image: np.ndarray, \n",
        "             label: int) -> List[LayerParams]:\n",
        "  probabilities, activations = forward_with_activations(params, image)\n",
        "  accumulated_gradient = mean_squared_error_derivative(probabilities, label)\n",
        "  new_params = [None for _ in params]\n",
        "  for reverse_layer_index, layer_params in enumerate(reversed(params)):\n",
        "\n",
        "    # We'll do some basic bookkeeping here to make things simpler to read.\n",
        "    layer_index = len(params) - 1 - reverse_layer_index\n",
        "    activation_derivative_func = _get_activation_derivative(\n",
        "        layer_params.activation)\n",
        "    prev_activation = activations[layer_index - 1]\n",
        "    activation_derivative = activation_derivative_func(activations[layer_index])\n",
        "    bias_gradient = accumulated_gradient * activation_derivative\n",
        "    weight_gradient = np.outer(prev_activation, bias_gradient.T)\n",
        "    #weight_gradient = np.expand_dims(prev_activation, axis=1) @ np.expand_dims(bias_gradient, axis=1).T\n",
        "\n",
        "    # Now, we finally do our SGD step. Note that we could easily use a fancier\n",
        "    # optimizer here.\n",
        "    new_biases = layer_params.biases - LEARNING_RATE * bias_gradient\n",
        "    new_weights = layer_params.weights - LEARNING_RATE * weight_gradient\n",
        "    new_params[layer_index] = LayerParams(weights=new_weights,\n",
        "                                          biases=new_biases,\n",
        "                                          activation=layer_params.activation)\n",
        "    # Finally, we update our accumulated gradient with the current weights. This\n",
        "    # gets it ready for the next iteration.\n",
        "    accumulated_gradient = np.dot(bias_gradient, layer_params.weights.T)\n",
        "  return new_params\n"
      ]
    },
    {
      "cell_type": "code",
      "execution_count": null,
      "metadata": {
        "id": "SC2OrQmOH6VO"
      },
      "outputs": [],
      "source": [
        "params = init_params([2, 128, 128, 128, 128, 2])"
      ]
    },
    {
      "cell_type": "markdown",
      "metadata": {
        "id": "g2mf5eKhUX00"
      },
      "source": [
        "Let's take our newly initialized `params`, and see how well our network does at predicting the labels!"
      ]
    },
    {
      "cell_type": "code",
      "execution_count": null,
      "metadata": {
        "colab": {
          "base_uri": "https://localhost:8080/",
          "height": 545
        },
        "id": "TUj8bUM-IWYn",
        "outputId": "2ecd8654-ff0f-42e4-be95-c605b52374a8"
      },
      "outputs": [
        {
          "output_type": "display_data",
          "data": {
            "text/plain": [
              "<Figure size 432x288 with 1 Axes>"
            ],
            "image/png": "[encoded data removed]"
          },
          "metadata": {
            "needs_background": "light"
          }
        },
        {
          "output_type": "display_data",
          "data": {
            "text/plain": [
              "<Figure size 432x288 with 1 Axes>"
            ],
            "image/png": "[encoded data removed]"
          },
          "metadata": {
            "needs_background": "light"
          }
        }
      ],
      "source": [
        "plot_predictions(inputs, labels, predict_labels(params, inputs))"
      ]
    },
    {
      "cell_type": "markdown",
      "metadata": {
        "id": "13-vS2b-Ue34"
      },
      "source": [
        "That's _really_ bad. Let's try training for 100 epochs and see if that makes things better."
      ]
    },
    {
      "cell_type": "code",
      "execution_count": null,
      "metadata": {
        "colab": {
          "base_uri": "https://localhost:8080/"
        },
        "id": "d3F6KkMYJKNj",
        "outputId": "740a1d93-f892-4047-a630-0c556adc3737"
      },
      "outputs": [
        {
          "output_type": "stream",
          "name": "stdout",
          "text": [
            "Running epoch 0, mean loss: 0.6882214695898781, accuracy: 0.58\n",
            "Running epoch 1, mean loss: 0.6854501985699152, accuracy: 0.61\n",
            "Running epoch 2, mean loss: 0.6827309327540704, accuracy: 0.63\n",
            "Running epoch 3, mean loss: 0.6801400208936189, accuracy: 0.65\n",
            "Running epoch 4, mean loss: 0.6776429090581089, accuracy: 0.68\n",
            "Running epoch 5, mean loss: 0.6752330215798363, accuracy: 0.73\n",
            "Running epoch 6, mean loss: 0.6728452709859283, accuracy: 0.74\n",
            "Running epoch 7, mean loss: 0.670520127267018, accuracy: 0.77\n",
            "Running epoch 8, mean loss: 0.6682078969943137, accuracy: 0.78\n",
            "Running epoch 9, mean loss: 0.6658363763023019, accuracy: 0.78\n",
            "Running epoch 10, mean loss: 0.6634406801002148, accuracy: 0.78\n",
            "Running epoch 11, mean loss: 0.66109898428573, accuracy: 0.78\n",
            "Running epoch 12, mean loss: 0.6587899161282852, accuracy: 0.79\n",
            "Running epoch 13, mean loss: 0.6565048536413284, accuracy: 0.79\n"
          ]
        }
      ],
      "source": [
        "for epoch_index in range(100):\n",
        "  loss = sum([calculate_loss(params, inputs[data_index, :], labels[data_index]) for data_index in range(len(labels))])/len(labels)\n",
        "  print(f'Running epoch {epoch_index}, mean loss: {loss}, accuracy: {accuracy(params, inputs, labels)}')\n",
        "  for data_index in range(len(labels)):\n",
        "    image, label = inputs[data_index, :], labels[data_index]\n",
        "    params = backward(params, image, label)"
      ]
    },
    {
      "cell_type": "code",
      "execution_count": null,
      "metadata": {
        "colab": {
          "base_uri": "https://localhost:8080/",
          "height": 545
        },
        "id": "Q1Hhn21oJedw",
        "outputId": "26ef4dbd-b939-4cee-ce50-535db79137d3"
      },
      "outputs": [
        {
          "output_type": "display_data",
          "data": {
            "text/plain": [
              "<Figure size 432x288 with 1 Axes>"
            ],
            "image/png": "[encoded data removed]"
          },
          "metadata": {
            "needs_background": "light"
          }
        },
        {
          "output_type": "display_data",
          "data": {
            "text/plain": [
              "<Figure size 432x288 with 1 Axes>"
            ],
            "image/png": "[encoded data removed]"
          },
          "metadata": {
            "needs_background": "light"
          }
        }
      ],
      "source": [
        "plot_predictions(inputs, labels, predict_labels(params, inputs))"
      ]
    },
    {
      "cell_type": "markdown",
      "metadata": {
        "id": "XmS23jQ5U7Nw"
      },
      "source": [
        "That's pretty good! Not perfect, but much better. Our network now correctly classifies 86% of the items.\n",
        "\n",
        "There's a lot more things we could do here- for instance, hyper-parameter sweeps, or mini-batching, but we'll just leave this here for simplicity's sake. "
      ]
    }
  ],
  "metadata": {
    "colab": {
      "provenance": [],
      "include_colab_link": true
    },
    "kernelspec": {
      "display_name": "Python 3",
      "name": "python3"
    },
    "language_info": {
      "name": "python"
    }
  },
  "nbformat": 4,
  "nbformat_minor": 0
}